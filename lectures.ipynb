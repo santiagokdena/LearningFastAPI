{
 "cells": [
  {
   "cell_type": "markdown",
   "metadata": {},
   "source": [
    "# FastAPI "
   ]
  },
  {
   "cell_type": "markdown",
   "metadata": {},
   "source": [
    "## Rutas"
   ]
  },
  {
   "cell_type": "markdown",
   "metadata": {},
   "source": [
    "    uvicorn main:app --host--port xxxx \n",
    "   \n",
    "    --reload #extra parameter for reloading automatically\n",
    "    -- uvicorn main:app --host 0.0.0.0 --port xxxx  #any device connected to the local network can access"
   ]
  },
  {
   "cell_type": "markdown",
   "metadata": {},
   "source": [
    "    www..../docs\n",
    "\n",
    "- Info of endpoints in the api (/..)\n",
    "\n",
    "- Se pueden agregar varios endpoints a un mismo tag"
   ]
  },
  {
   "cell_type": "markdown",
   "metadata": {},
   "source": [
    "### Parametros de Ruta"
   ]
  },
  {
   "cell_type": "markdown",
   "metadata": {},
   "source": [
    "    @app.get(\"/movies\",tags=[\"home\"]) -> Ultima porción de la URL"
   ]
  },
  {
   "cell_type": "markdown",
   "metadata": {},
   "source": [
    "### Parametros Query\n",
    "\n",
    "Son aquellos que salen después del ? en la URL."
   ]
  },
  {
   "cell_type": "markdown",
   "metadata": {},
   "source": [
    "    @app.delete(\"/movies/{id}\",tags=[\"Movies\"]) -> En este caso, es \"id\"."
   ]
  },
  {
   "cell_type": "markdown",
   "metadata": {},
   "source": [
    "### Inserting parameters with Class attributes"
   ]
  },
  {
   "cell_type": "markdown",
   "metadata": {},
   "source": [
    "Se crea una clase que guarda los atributos que se envian como parametros Query:\n",
    "\n",
    "    class Movie(BaseModel):\n",
    "        id:int\n",
    "        title:str\n",
    "        overview:str\n",
    "        year:int\n",
    "        rating:float\n",
    "        category:str"
   ]
  },
  {
   "cell_type": "markdown",
   "metadata": {},
   "source": [
    "### Validations with Path"
   ]
  },
  {
   "cell_type": "markdown",
   "metadata": {},
   "source": [
    "Path(parameter with a condition), example:\n",
    "\n",
    "    Path(gt=0) # value greater than 0"
   ]
  },
  {
   "cell_type": "markdown",
   "metadata": {},
   "source": [
    "## Status Codes"
   ]
  },
  {
   "cell_type": "markdown",
   "metadata": {},
   "source": [
    "500\n",
    "404\n",
    "303\n",
    "201\n",
    "200\n"
   ]
  },
  {
   "cell_type": "markdown",
   "metadata": {},
   "source": [
    "## Validators"
   ]
  },
  {
   "cell_type": "markdown",
   "metadata": {},
   "source": [
    "    @validator(parameter)\n",
    "    def function:\n",
    "        conditions"
   ]
  },
  {
   "cell_type": "markdown",
   "metadata": {},
   "source": [
    "## Middlewares"
   ]
  },
  {
   "cell_type": "markdown",
   "metadata": {},
   "source": [
    "Tool which is constantly working (asynchronusly), used in case of apparision of any error for managing it."
   ]
  },
  {
   "cell_type": "markdown",
   "metadata": {},
   "source": [
    "    app.add_middleware(HTTPErrorHandler)\n",
    "    @app.middleware(\"http\")\n",
    "    async def http_error_handler(request: Request, callnext)-> JSONResponse:\n",
    "        print(\"Middleware runing\")\n",
    "        return await callnext(request)"
   ]
  },
  {
   "cell_type": "markdown",
   "metadata": {},
   "source": [
    "## Motores de Plantillas"
   ]
  },
  {
   "cell_type": "markdown",
   "metadata": {},
   "source": [
    "    templates = Jinja2Templates(directory=templates_path)"
   ]
  },
  {
   "cell_type": "markdown",
   "metadata": {},
   "source": [
    "    @app.get(\"/\",tags=[\"Home\"])\n",
    "    def home(request: Request):\n",
    "        # return PlainTextResponse(content=\"Home\",status_code=200)\n",
    "        return templates.TemplateResponse(\"index.html\",{\"request\":request,\"message\":\"Welcome!\"})"
   ]
  },
  {
   "cell_type": "markdown",
   "metadata": {},
   "source": [
    "## Dependencias"
   ]
  },
  {
   "cell_type": "markdown",
   "metadata": {},
   "source": [
    "1. Primera manera"
   ]
  },
  {
   "cell_type": "markdown",
   "metadata": {},
   "source": [
    "    def get_users(commons:dict= Depends(name_dependency)):\n",
    "        return f\"Users created between {commons[\"start_date] and {commons[\"end_date]}}\"\n",
    "2. Segunda manera\n"
   ]
  },
  {
   "cell_type": "markdown",
   "metadata": {},
   "source": [
    "    class CommonDep:\n",
    "        def __init__(self,start_date:str,end_date:str) ->None:\n",
    "            self.start_date=start_date\n",
    "            self.end_date=end_date\n",
    "    @app.get(\"/users\")\n",
    "    def get_users(commons:CommonDep= Depends(CommonDep)):\n",
    "        return f\"Users created between {commons.start_date} and  {commons.end_date}\"\n"
   ]
  },
  {
   "cell_type": "markdown",
   "metadata": {},
   "source": []
  }
 ],
 "metadata": {
  "language_info": {
   "name": "python"
  }
 },
 "nbformat": 4,
 "nbformat_minor": 2
}
