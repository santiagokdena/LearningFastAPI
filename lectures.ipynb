{
 "cells": [
  {
   "cell_type": "markdown",
   "metadata": {},
   "source": [
    "# FastAPI "
   ]
  },
  {
   "cell_type": "markdown",
   "metadata": {},
   "source": [
    "## Routes"
   ]
  },
  {
   "cell_type": "markdown",
   "metadata": {},
   "source": [
    "    uvicorn main:app --host--port xxxx \n",
    "   \n",
    "    --reload #extra parameter for reloading automatically\n",
    "    -- uvicorn main:app --host 0.0.0.0 --port xxxx  #any device connected to the local network can access"
   ]
  },
  {
   "cell_type": "markdown",
   "metadata": {},
   "source": [
    "    www..../docs\n",
    "\n",
    "- Info of endpoints in the api (/..)\n",
    "\n",
    "- Se pueden agregar varios endpoints a un mismo tag"
   ]
  },
  {
   "cell_type": "markdown",
   "metadata": {},
   "source": [
    "### GET METHOD"
   ]
  },
  {
   "cell_type": "markdown",
   "metadata": {},
   "source": []
  }
 ],
 "metadata": {
  "language_info": {
   "name": "python"
  }
 },
 "nbformat": 4,
 "nbformat_minor": 2
}
